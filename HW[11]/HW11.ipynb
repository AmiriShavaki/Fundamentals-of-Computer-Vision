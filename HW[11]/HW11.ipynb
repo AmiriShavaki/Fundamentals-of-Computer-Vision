{
  "nbformat": 4,
  "nbformat_minor": 0,
  "metadata": {
    "colab": {
      "provenance": []
    },
    "kernelspec": {
      "name": "python3",
      "display_name": "Python 3"
    },
    "language_info": {
      "name": "python"
    },
    "gpuClass": "standard",
    "accelerator": "GPU"
  },
  "cells": [
    {
      "cell_type": "markdown",
      "source": [
        "#Q2"
      ],
      "metadata": {
        "id": "Qq9GTCPRQUec"
      }
    },
    {
      "cell_type": "code",
      "execution_count": 2,
      "metadata": {
        "id": "U6idv-p1IkRv"
      },
      "outputs": [],
      "source": [
        "from tensorflow import keras\n",
        "import numpy as np \n",
        "import matplotlib.pyplot as plt\n",
        "from keras.utils.vis_utils import plot_model"
      ]
    },
    {
      "cell_type": "code",
      "source": [
        "# Load dataset\n",
        "(x_train, y_train), (x_test, y_test) = keras.datasets.cifar10.load_data()"
      ],
      "metadata": {
        "id": "ZboirzSo5CN5",
        "outputId": "122cf024-1002-4e71-d188-95f427e553f1",
        "colab": {
          "base_uri": "https://localhost:8080/"
        }
      },
      "execution_count": 3,
      "outputs": [
        {
          "output_type": "stream",
          "name": "stdout",
          "text": [
            "Downloading data from https://www.cs.toronto.edu/~kriz/cifar-10-python.tar.gz\n",
            "170498071/170498071 [==============================] - 14s 0us/step\n"
          ]
        }
      ]
    },
    {
      "cell_type": "code",
      "source": [
        "# Normalize data\n",
        "x_train = x_train.astype(float) / 255.\n",
        "x_test  = x_test.astype(float) / 255."
      ],
      "metadata": {
        "id": "FMYYX-aS5DPw"
      },
      "execution_count": 4,
      "outputs": []
    },
    {
      "cell_type": "code",
      "source": [
        "# Visualize data\n",
        "plt.imshow(x_train[np.random.randint(len(x_train))])\n",
        "plt.show()"
      ],
      "metadata": {
        "id": "TBMtjNQ96dwI",
        "outputId": "c5fd9d97-371d-441d-95e0-44fe807044bc",
        "colab": {
          "base_uri": "https://localhost:8080/",
          "height": 266
        }
      },
      "execution_count": 5,
      "outputs": [
        {
          "output_type": "display_data",
          "data": {
            "text/plain": [
              "<Figure size 432x288 with 1 Axes>"
            ],
            "image/png": "[encoded data removed]"
          },
          "metadata": {
            "needs_background": "light"
          }
        }
      ]
    },
    {
      "cell_type": "code",
      "source": [
        "# Convert class vectors to binary class matrices.\n",
        "num_classes = 10\n",
        "print(\"Y[0] before converting : \" , y_train[0])\n",
        "y_train = keras.utils.to_categorical(y_train, num_classes)\n",
        "y_test = keras.utils.to_categorical(y_test, num_classes)\n",
        "print(\"Y[0] after converting : \" , y_train[0]) "
      ],
      "metadata": {
        "id": "tgo_K2Ve5IGT",
        "outputId": "9780bfbb-c383-407a-9a68-3d7b8d64b7e7",
        "colab": {
          "base_uri": "https://localhost:8080/"
        }
      },
      "execution_count": 6,
      "outputs": [
        {
          "output_type": "stream",
          "name": "stdout",
          "text": [
            "Y[0] before converting :  [6]\n",
            "Y[0] after converting :  [0. 0. 0. 0. 0. 0. 1. 0. 0. 0.]\n"
          ]
        }
      ]
    },
    {
      "cell_type": "code",
      "source": [
        "# Fully connected model\n",
        "fc_model = keras.Sequential()\n",
        "fc_model.add(keras.layers.Input(shape=x_train[0].shape))\n",
        "# Write your code here \n",
        "# Add Flatten layer and few Dense layers\n",
        "fc_model.add(keras.layers.Flatten())\n",
        "fc_model.add(keras.layers.Dense(6, activation=\"relu\"))\n",
        "fc_model.add(keras.layers.Dense(6, activation=\"relu\"))\n",
        "fc_model.add(keras.layers.Dense(10, activation=\"softmax\"))\n",
        "fc_model.summary()"
      ],
      "metadata": {
        "id": "UaFaTOUC5RRK",
        "outputId": "251e9f49-d371-4c72-874d-0f0e3139829e",
        "colab": {
          "base_uri": "https://localhost:8080/"
        }
      },
      "execution_count": 7,
      "outputs": [
        {
          "output_type": "stream",
          "name": "stdout",
          "text": [
            "Model: \"sequential\"\n",
            "_________________________________________________________________\n",
            " Layer (type)                Output Shape              Param #   \n",
            "=================================================================\n",
            " flatten (Flatten)           (None, 3072)              0         \n",
            "                                                                 \n",
            " dense (Dense)               (None, 6)                 18438     \n",
            "                                                                 \n",
            " dense_1 (Dense)             (None, 6)                 42        \n",
            "                                                                 \n",
            " dense_2 (Dense)             (None, 10)                70        \n",
            "                                                                 \n",
            "=================================================================\n",
            "Total params: 18,550\n",
            "Trainable params: 18,550\n",
            "Non-trainable params: 0\n",
            "_________________________________________________________________\n"
          ]
        }
      ]
    },
    {
      "cell_type": "code",
      "source": [
        "plot_model(fc_model)"
      ],
      "metadata": {
        "id": "ffCa9BFA8VKj",
        "outputId": "e1253129-57c6-4507-92f7-7a3f5d0765db",
        "colab": {
          "base_uri": "https://localhost:8080/",
          "height": 466
        }
      },
      "execution_count": 8,
      "outputs": [
        {
          "output_type": "execute_result",
          "data": {
            "image/png": "[encoded data removed]",
            "text/plain": [
              "<IPython.core.display.Image object>"
            ]
          },
          "metadata": {},
          "execution_count": 8
        }
      ]
    },
    {
      "cell_type": "code",
      "source": [
        "Conv_model = keras.Sequential()\n",
        "Conv_model.add(keras.layers.Input(shape=x_train[0].shape))\n",
        "# write your code here\n",
        "# add few Conv layers and Flatten layer\n",
        "# you can use pool layers after Conv layers\n",
        "Conv_model.add(keras.layers.Conv2D(10, kernel_size=(2, 2), activation=\"relu\"))\n",
        "Conv_model.add(keras.layers.Conv2D(10, kernel_size=(2, 2), activation=\"relu\"))\n",
        "Conv_model.add(keras.layers.MaxPooling2D(3))\n",
        "Conv_model.add(keras.layers.Flatten())\n",
        "Conv_model.add(keras.layers.Dense(10, activation=\"softmax\"))\n",
        "Conv_model.summary()"
      ],
      "metadata": {
        "id": "zKlhESuB5QGW",
        "outputId": "033fd0ec-9b20-48e8-dbd2-4379709c35f6",
        "colab": {
          "base_uri": "https://localhost:8080/"
        }
      },
      "execution_count": 9,
      "outputs": [
        {
          "output_type": "stream",
          "name": "stdout",
          "text": [
            "Model: \"sequential_1\"\n",
            "_________________________________________________________________\n",
            " Layer (type)                Output Shape              Param #   \n",
            "=================================================================\n",
            " conv2d (Conv2D)             (None, 31, 31, 10)        130       \n",
            "                                                                 \n",
            " conv2d_1 (Conv2D)           (None, 30, 30, 10)        410       \n",
            "                                                                 \n",
            " max_pooling2d (MaxPooling2D  (None, 10, 10, 10)       0         \n",
            " )                                                               \n",
            "                                                                 \n",
            " flatten_1 (Flatten)         (None, 1000)              0         \n",
            "                                                                 \n",
            " dense_3 (Dense)             (None, 10)                10010     \n",
            "                                                                 \n",
            "=================================================================\n",
            "Total params: 10,550\n",
            "Trainable params: 10,550\n",
            "Non-trainable params: 0\n",
            "_________________________________________________________________\n"
          ]
        }
      ]
    },
    {
      "cell_type": "code",
      "source": [
        "plot_model(Conv_model)"
      ],
      "metadata": {
        "id": "BkD1BSHd9hH-",
        "outputId": "facbf64a-b3e7-410e-e725-02c70fe15086",
        "colab": {
          "base_uri": "https://localhost:8080/",
          "height": 564
        }
      },
      "execution_count": 10,
      "outputs": [
        {
          "output_type": "execute_result",
          "data": {
            "image/png": "[encoded data removed]",
            "text/plain": [
              "<IPython.core.display.Image object>"
            ]
          },
          "metadata": {},
          "execution_count": 10
        }
      ]
    },
    {
      "cell_type": "code",
      "source": [
        "models_name = {}\n",
        "models_name[0] = 'Fully Connected Model'\n",
        "models_name[1] = 'Convolutional Model'\n",
        "\n",
        "for i, model in enumerate([fc_model, Conv_model]):\n",
        "    print(models_name[i])\n",
        "    plot_model(model)\n",
        "    model.compile(\n",
        "        loss='categorical_crossentropy',\n",
        "        optimizer=keras.optimizers.Adam(learning_rate=2e-3),\n",
        "        metrics=['accuracy'] \n",
        "    )   \n",
        "    model.fit(x_train, y_train, epochs=5)\n",
        "    print('\\n')\n",
        "    print('Loss and Accuracy on Test set : ')\n",
        "    model.evaluate(x_test, y_test)\n",
        "    print('\\n')\n"
      ],
      "metadata": {
        "id": "A8of1QIv9rV8",
        "outputId": "7bc9253b-6ca2-410f-dae9-f0f60bd7e793",
        "colab": {
          "base_uri": "https://localhost:8080/"
        }
      },
      "execution_count": 11,
      "outputs": [
        {
          "output_type": "stream",
          "name": "stdout",
          "text": [
            "Fully Connected Model\n",
            "Epoch 1/5\n",
            "1563/1563 [==============================] - 7s 3ms/step - loss: 2.3029 - accuracy: 0.1003\n",
            "Epoch 2/5\n",
            "1563/1563 [==============================] - 4s 3ms/step - loss: 2.3029 - accuracy: 0.0997\n",
            "Epoch 3/5\n",
            "1563/1563 [==============================] - 4s 3ms/step - loss: 2.3029 - accuracy: 0.0987\n",
            "Epoch 4/5\n",
            "1563/1563 [==============================] - 4s 3ms/step - loss: 2.3029 - accuracy: 0.0962\n",
            "Epoch 5/5\n",
            "1563/1563 [==============================] - 4s 3ms/step - loss: 2.3029 - accuracy: 0.0978\n",
            "\n",
            "\n",
            "Loss and Accuracy on Test set : \n",
            "313/313 [==============================] - 1s 2ms/step - loss: 2.3028 - accuracy: 0.1000\n",
            "\n",
            "\n",
            "Convolutional Model\n",
            "Epoch 1/5\n",
            "1563/1563 [==============================] - 12s 3ms/step - loss: 1.5051 - accuracy: 0.4671\n",
            "Epoch 2/5\n",
            "1563/1563 [==============================] - 6s 4ms/step - loss: 1.2432 - accuracy: 0.5663\n",
            "Epoch 3/5\n",
            "1563/1563 [==============================] - 6s 4ms/step - loss: 1.1619 - accuracy: 0.5959\n",
            "Epoch 4/5\n",
            "1563/1563 [==============================] - 6s 4ms/step - loss: 1.1051 - accuracy: 0.6165\n",
            "Epoch 5/5\n",
            "1563/1563 [==============================] - 5s 3ms/step - loss: 1.0618 - accuracy: 0.6331\n",
            "\n",
            "\n",
            "Loss and Accuracy on Test set : \n",
            "313/313 [==============================] - 1s 3ms/step - loss: 1.0966 - accuracy: 0.6238\n",
            "\n",
            "\n"
          ]
        }
      ]
    },
    {
      "cell_type": "markdown",
      "source": [
        "#Q3"
      ],
      "metadata": {
        "id": "0GlSGw2eQWkI"
      }
    },
    {
      "cell_type": "code",
      "source": [
        "import tensorflow as tf\n",
        "import cv2\n",
        "import os \n",
        "import matplotlib.pyplot as plt"
      ],
      "metadata": {
        "id": "TWE2DiIeszyj"
      },
      "execution_count": null,
      "outputs": []
    },
    {
      "cell_type": "code",
      "source": [
        "!rm -r sample_data"
      ],
      "metadata": {
        "id": "b4LZXoD8nhIZ"
      },
      "execution_count": null,
      "outputs": []
    },
    {
      "cell_type": "code",
      "source": [
        "!gdown \"1Y2CM201yphBcdovvheDkEn9Bzu6IXeUZ&confirm=t\""
      ],
      "metadata": {
        "id": "m7HREJlcVfvo"
      },
      "execution_count": null,
      "outputs": []
    },
    {
      "cell_type": "code",
      "source": [
        "!unzip fruits-360-original-size.zip"
      ],
      "metadata": {
        "id": "aXPIYYfVnkcd"
      },
      "execution_count": null,
      "outputs": []
    },
    {
      "cell_type": "markdown",
      "source": [
        "## A : complete resize image"
      ],
      "metadata": {
        "id": "EkR0BEdj9olP"
      }
    },
    {
      "cell_type": "code",
      "source": [
        "BASE_PATH = '/content/fruits-360-original-size/'\n",
        "\n",
        "# path to the train folder\n",
        "DATA_TRAIN_PATH = os.path.join(BASE_PATH, 'Training')\n",
        "\n",
        "# path to the test folder \n",
        "DATA_TEST_PATH = os.path.join(BASE_PATH, 'Test')"
      ],
      "metadata": {
        "id": "czACR9kYoVC8"
      },
      "execution_count": null,
      "outputs": []
    },
    {
      "cell_type": "code",
      "source": [
        "def resize_img(img, desired_size = 224):\n",
        "    # write your code here\n",
        "    return new_img"
      ],
      "metadata": {
        "id": "D07DQJ0Bptjb"
      },
      "execution_count": null,
      "outputs": []
    },
    {
      "cell_type": "code",
      "source": [
        "path = '/content/fruits-360-original-size/Training/carrot_1/r0_136.jpg'\n",
        "img = cv2.imread(path)[:,:,::-1]\n",
        "plt.imshow(img)\n",
        "plt.show()"
      ],
      "metadata": {
        "id": "MVYOhNXFo3p5"
      },
      "execution_count": null,
      "outputs": []
    },
    {
      "cell_type": "code",
      "source": [
        "new_img = resize_img(img)\n",
        "plt.imshow(new_img)"
      ],
      "metadata": {
        "id": "8rmykk8Rqhr7"
      },
      "execution_count": null,
      "outputs": []
    },
    {
      "cell_type": "markdown",
      "source": [
        "## Image Data generator"
      ],
      "metadata": {
        "id": "WC60fnUP9uwZ"
      }
    },
    {
      "cell_type": "code",
      "source": [
        "import tensorflow.keras.preprocessing.image as IM\n",
        "\n",
        "train_datagen = IM.ImageDataGenerator(rescale=1./255,\n",
        "    preprocessing_function=resize_img)\n",
        "\n",
        "test_datagen = IM.ImageDataGenerator(rescale=1./255,\n",
        "    preprocessing_function=resize_img)\n",
        "\n",
        "train_generator  = train_datagen.flow_from_directory(DATA_TRAIN_PATH,batch_size=96,target_size=(224,224))\n",
        "test_generator  = test_datagen.flow_from_directory(DATA_TEST_PATH,batch_size=96,target_size=(224,224))"
      ],
      "metadata": {
        "colab": {
          "base_uri": "https://localhost:8080/"
        },
        "id": "ecZcddSJnq2T",
        "outputId": "57c60ffa-46ab-4811-e37c-06475c108081"
      },
      "execution_count": null,
      "outputs": [
        {
          "output_type": "stream",
          "name": "stdout",
          "text": [
            "Found 6231 images belonging to 24 classes.\n",
            "Found 3110 images belonging to 24 classes.\n"
          ]
        }
      ]
    },
    {
      "cell_type": "markdown",
      "source": [
        "## B : Resnet50 with random weigts"
      ],
      "metadata": {
        "id": "VY25lCxR8l4o"
      }
    },
    {
      "cell_type": "code",
      "source": [
        "# YOU CAN CHANGE IT\n",
        "EPOCHS = 30"
      ],
      "metadata": {
        "id": "ayuILFJT8RZP"
      },
      "execution_count": null,
      "outputs": []
    },
    {
      "cell_type": "code",
      "source": [
        "resnet = tf.keras.models.Sequential()\n",
        "# Write your code here\n",
        "resnet.summary()"
      ],
      "metadata": {
        "id": "X5y_nU9V52Sm"
      },
      "execution_count": null,
      "outputs": []
    },
    {
      "cell_type": "code",
      "source": [
        "loss = tf.keras.losses.CategoricalCrossentropy()\n",
        "optimizer = tf.keras.optimizers.Adam()\n",
        "resnet.compile(loss= loss, optimizer= optimizer, metrics=\"acc\")"
      ],
      "metadata": {
        "id": "qeF2HFQa8C4w"
      },
      "execution_count": null,
      "outputs": []
    },
    {
      "cell_type": "code",
      "source": [
        "resnet.fit(train_generator, epochs=1)"
      ],
      "metadata": {
        "id": "1aTWQVfN8OPI"
      },
      "execution_count": null,
      "outputs": []
    },
    {
      "cell_type": "markdown",
      "source": [
        "## C : Fine-tune Resnet50 on fruits dataset."
      ],
      "metadata": {
        "id": "kl1lESTv8uZJ"
      }
    },
    {
      "cell_type": "code",
      "source": [
        "fine_tune_resnet = tf.keras.models.Sequential()\n",
        "# write your code here \n",
        "\n",
        "fine_tune_resnet.summary()\n"
      ],
      "metadata": {
        "id": "zepWgjspppW1"
      },
      "execution_count": null,
      "outputs": []
    },
    {
      "cell_type": "code",
      "source": [
        "loss = tf.keras.losses.CategoricalCrossentropy()\n",
        "optimizer = tf.keras.optimizers.Adam()\n",
        "fine_tune_resnet.compile(loss= loss, optimizer= optimizer, metrics=\"acc\")"
      ],
      "metadata": {
        "id": "6w0GV-smxgpD"
      },
      "execution_count": null,
      "outputs": []
    },
    {
      "cell_type": "code",
      "source": [
        "fine_tune_resnet.fit(train_generator, epochs=1)"
      ],
      "metadata": {
        "id": "MU6Ur3xoyI6O"
      },
      "execution_count": null,
      "outputs": []
    },
    {
      "cell_type": "markdown",
      "source": [
        "## Test models"
      ],
      "metadata": {
        "id": "1tHdp2M6_3c6"
      }
    },
    {
      "cell_type": "code",
      "source": [
        "resnet.evaluate(test_generator)"
      ],
      "metadata": {
        "id": "epoBuiG48dki"
      },
      "execution_count": null,
      "outputs": []
    },
    {
      "cell_type": "code",
      "source": [
        "fine_tune_resnet.evaluate(test_generator)"
      ],
      "metadata": {
        "id": "K09b3maVvmM-"
      },
      "execution_count": null,
      "outputs": []
    }
  ]
}