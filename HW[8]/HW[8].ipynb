{
  "cells": [
    {
      "cell_type": "code",
      "execution_count": 1,
      "metadata": {
        "id": "eVE9CXTgGLxO",
        "outputId": "6a7e7556-6474-43ac-a3db-940855646f03",
        "colab": {
          "base_uri": "https://localhost:8080/",
          "height": 1000
        }
      },
      "outputs": [
        {
          "output_type": "stream",
          "name": "stdout",
          "text": [
            "Reading package lists... Done\n",
            "Building dependency tree       \n",
            "Reading state information... Done\n",
            "The following package was automatically installed and is no longer required:\n",
            "  libnvidia-common-460\n",
            "Use 'sudo apt autoremove' to remove it.\n",
            "The following additional packages will be installed:\n",
            "  tesseract-ocr-eng tesseract-ocr-osd\n",
            "The following NEW packages will be installed:\n",
            "  tesseract-ocr tesseract-ocr-eng tesseract-ocr-osd\n",
            "0 upgraded, 3 newly installed, 0 to remove and 7 not upgraded.\n",
            "Need to get 4,795 kB of archives.\n",
            "After this operation, 15.8 MB of additional disk space will be used.\n",
            "Get:1 http://archive.ubuntu.com/ubuntu bionic/universe amd64 tesseract-ocr-eng all 4.00~git24-0e00fe6-1.2 [1,588 kB]\n",
            "Get:2 http://archive.ubuntu.com/ubuntu bionic/universe amd64 tesseract-ocr-osd all 4.00~git24-0e00fe6-1.2 [2,989 kB]\n",
            "Get:3 http://archive.ubuntu.com/ubuntu bionic/universe amd64 tesseract-ocr amd64 4.00~git2288-10f4998a-2 [218 kB]\n",
            "Fetched 4,795 kB in 0s (22.8 MB/s)\n",
            "debconf: unable to initialize frontend: Dialog\n",
            "debconf: (No usable dialog-like program is installed, so the dialog based frontend cannot be used. at /usr/share/perl5/Debconf/FrontEnd/Dialog.pm line 76, <> line 3.)\n",
            "debconf: falling back to frontend: Readline\n",
            "debconf: unable to initialize frontend: Readline\n",
            "debconf: (This frontend requires a controlling tty.)\n",
            "debconf: falling back to frontend: Teletype\n",
            "dpkg-preconfigure: unable to re-open stdin: \n",
            "Selecting previously unselected package tesseract-ocr-eng.\n",
            "(Reading database ... 124015 files and directories currently installed.)\n",
            "Preparing to unpack .../tesseract-ocr-eng_4.00~git24-0e00fe6-1.2_all.deb ...\n",
            "Unpacking tesseract-ocr-eng (4.00~git24-0e00fe6-1.2) ...\n",
            "Selecting previously unselected package tesseract-ocr-osd.\n",
            "Preparing to unpack .../tesseract-ocr-osd_4.00~git24-0e00fe6-1.2_all.deb ...\n",
            "Unpacking tesseract-ocr-osd (4.00~git24-0e00fe6-1.2) ...\n",
            "Selecting previously unselected package tesseract-ocr.\n",
            "Preparing to unpack .../tesseract-ocr_4.00~git2288-10f4998a-2_amd64.deb ...\n",
            "Unpacking tesseract-ocr (4.00~git2288-10f4998a-2) ...\n",
            "Setting up tesseract-ocr-osd (4.00~git24-0e00fe6-1.2) ...\n",
            "Setting up tesseract-ocr-eng (4.00~git24-0e00fe6-1.2) ...\n",
            "Setting up tesseract-ocr (4.00~git2288-10f4998a-2) ...\n",
            "Processing triggers for man-db (2.8.3-2ubuntu0.1) ...\n",
            "Looking in indexes: https://pypi.org/simple, https://us-python.pkg.dev/colab-wheels/public/simple/\n",
            "Collecting pytesseract\n",
            "  Downloading pytesseract-0.3.10-py3-none-any.whl (14 kB)\n",
            "Requirement already satisfied: packaging>=21.3 in /usr/local/lib/python3.8/dist-packages (from pytesseract) (21.3)\n",
            "Collecting Pillow>=8.0.0\n",
            "  Downloading Pillow-9.3.0-cp38-cp38-manylinux_2_17_x86_64.manylinux2014_x86_64.whl (3.2 MB)\n",
            "\u001b[K     |████████████████████████████████| 3.2 MB 9.9 MB/s \n",
            "\u001b[?25hRequirement already satisfied: pyparsing!=3.0.5,>=2.0.2 in /usr/local/lib/python3.8/dist-packages (from packaging>=21.3->pytesseract) (3.0.9)\n",
            "Installing collected packages: Pillow, pytesseract\n",
            "  Attempting uninstall: Pillow\n",
            "    Found existing installation: Pillow 7.1.2\n",
            "    Uninstalling Pillow-7.1.2:\n",
            "      Successfully uninstalled Pillow-7.1.2\n",
            "Successfully installed Pillow-9.3.0 pytesseract-0.3.10\n"
          ]
        },
        {
          "output_type": "display_data",
          "data": {
            "application/vnd.colab-display-data+json": {
              "pip_warning": {
                "packages": [
                  "PIL"
                ]
              }
            }
          },
          "metadata": {}
        }
      ],
      "source": [
        "!sudo apt install tesseract-ocr\n",
        "!pip install pytesseract"
      ]
    },
    {
      "cell_type": "code",
      "execution_count": 2,
      "metadata": {
        "id": "iqHoYiSH62pz",
        "outputId": "4091f07d-ecc7-4377-b223-383efd3c2d8d",
        "colab": {
          "base_uri": "https://localhost:8080/"
        }
      },
      "outputs": [
        {
          "output_type": "stream",
          "name": "stdout",
          "text": [
            "Reading package lists... Done\n",
            "Building dependency tree       \n",
            "Reading state information... Done\n",
            "The following package was automatically installed and is no longer required:\n",
            "  libnvidia-common-460\n",
            "Use 'sudo apt autoremove' to remove it.\n",
            "The following NEW packages will be installed:\n",
            "  tesseract-ocr-fas\n",
            "0 upgraded, 1 newly installed, 0 to remove and 7 not upgraded.\n",
            "Need to get 301 kB of archives.\n",
            "After this operation, 446 kB of additional disk space will be used.\n",
            "Get:1 http://archive.ubuntu.com/ubuntu bionic/universe amd64 tesseract-ocr-fas all 4.00~git24-0e00fe6-1.2 [301 kB]\n",
            "Fetched 301 kB in 0s (3,448 kB/s)\n",
            "debconf: unable to initialize frontend: Dialog\n",
            "debconf: (No usable dialog-like program is installed, so the dialog based frontend cannot be used. at /usr/share/perl5/Debconf/FrontEnd/Dialog.pm line 76, <> line 1.)\n",
            "debconf: falling back to frontend: Readline\n",
            "debconf: unable to initialize frontend: Readline\n",
            "debconf: (This frontend requires a controlling tty.)\n",
            "debconf: falling back to frontend: Teletype\n",
            "dpkg-preconfigure: unable to re-open stdin: \n",
            "Selecting previously unselected package tesseract-ocr-fas.\n",
            "(Reading database ... 124062 files and directories currently installed.)\n",
            "Preparing to unpack .../tesseract-ocr-fas_4.00~git24-0e00fe6-1.2_all.deb ...\n",
            "Unpacking tesseract-ocr-fas (4.00~git24-0e00fe6-1.2) ...\n",
            "Setting up tesseract-ocr-fas (4.00~git24-0e00fe6-1.2) ...\n"
          ]
        }
      ],
      "source": [
        "!sudo apt-get install tesseract-ocr-fas"
      ]
    },
    {
      "cell_type": "markdown",
      "metadata": {
        "id": "Vk-Bsayi63d_"
      },
      "source": [
        "# **الف:**"
      ]
    },
    {
      "cell_type": "code",
      "execution_count": 16,
      "metadata": {
        "colab": {
          "base_uri": "https://localhost:8080/"
        },
        "id": "Kg_QnpkS0AE9",
        "outputId": "d2c9975f-c611-426b-947c-12e135fbf91a"
      },
      "outputs": [
        {
          "output_type": "stream",
          "name": "stdout",
          "text": [
            "******* Otsu result: ********\n",
            "     \n",
            "\n",
            "تبم‌های یر\n",
            "\n",
            "کادر پزشکی و ام\n",
            "فرهنگی «جهاد دان:_ ؟!\n",
            "ری برگزار می‌کردیم ۳\n",
            "\n",
            "ن معمولا با گروه پانزده‌بیست‌نفره ا٩\n",
            "\n",
            "بهیاری و امدادگری را تمام کرده بودند. به ۱\n",
            "\n",
            "و بعد از اتسمام عملیات دوباره\n",
            "\n",
            "دانشگاه می‌ شدیم .. : یشنم\n",
            "\n",
            "4\n",
            "۳۳ ام دم میا یبا ۱\n",
            "0 تم ‌ یچ و ۱\n",
            "\n",
            "ی 9 :\n",
            "مه\n",
            "\n",
            "ا ادا\n",
            "ات دامه داشت تا ایرکه ه سل ۱۳۶۲ مجدد داز ها باز\n",
            "شد ری . هرقدر ارتباط بامحط اا اس 5\n",
            "شرمی توستند به جبهه ها ببایند . با ایین وضعیت معلو 5\n",
            "م نبود ج\n",
            "\n",
            "تقلابی آن روزها بیید؛جوی\n",
            "\n",
            "به بود.\n",
            "باوجود همه و\n",
            "يٍ, «جهاد وازن‌گاهی!\n",
            "\n",
            "اتأمسن ۰ نما های رورا\n",
            "\n",
            "اول آن روزها ۷\n",
            "| کردنك\" موی\n",
            "\n",
            "ویمدهابه ۱\n",
            "\n",
            " \n",
            "\f\n",
            "******* Adaptive thresh result: ********\n",
            "ره د بزرک می سشسد ند 9 رآه ند ستالا ۰ رای \"۳ مس 5 3\n",
            "\n",
            "مد\n",
            "۳\n",
            "\n",
            "۴ یآ ۱ ۱ 0 3 ت\n",
            "\n",
            "جبهه رفت رآسد م کرد\n",
            "اعزام‌هایمان معمء لا در ایام عملبات ایس\n",
            "تعداد مجروحان در این ایام بیشتر بء مت ح\n",
            "تیم‌های پزشکی و اسمدادی نیازمی شد. رما ین\n",
            "کادر پزشکی و امداد و درسان نیازبود. برای بر\n",
            "فرهنگی «جهاد دانشگاهی». برای دانشحم یا و \"۳\n",
            "و امدادگری برگزار می‌کرديم و زمان شروع عملیات بای 0\n",
            "آن معمولا با گروه یانزده‌بیست‌نفره از دانشت هایس که ۲\n",
            "بهیاری و امدادگری را تمام کرده بودند. به مناطق ۳ ر ۲\n",
            "و بعد از اتمام عملیات دوباره برمی‌گشتيم و مشد؛ :\n",
            "دانشگاه می شسدیم «دکتر عبدالحسبن شاهوردی ادوستان دا ح\n",
            "کاظم ‌آشتبانی و مدیرعامل فعلی پژوهشگاه رویان).\n",
            "همین روال ادامه داشت تا اینکه سال ۱۳۶۲ مجدد دانشگاه‌ها بازشده\n",
            "دانشجویان رفتند سر کلاس. هرقدر ارتباط با محیط آرام دانشگاه هم\n",
            "می‌شد» کمترمی‌توانستند به جبهه‌ ها بیایند. با این وضعیت معلوم نبواج\n",
            "برسردغدغه‌های نا رام سعید وجوانان پرشور و انقلابی آن ره زها بباید؛ جولائی\n",
            "که میم‌ترین دغدغه‌شان جد کرک اروزی در جبهه بود.\n",
            "در دانشگاه, نیادی که ارتباط دانسحویان امثال سعید وود هی\n",
            "و از سال‌ها \"با رمان ها و دغدغه حایشان حش! می‌کرد «جهاد داش\n",
            "بود؛ تشعلی ندیا ؟ شه به منخلور ایحاد ارتباط بین دانش تاه تأمین نیا فا\n",
            "7 7 2 ب تم پین\n",
            "\n",
            "رشکل 7 ترشت .۱ زانیا ؟ که -عنسف او ولبیت اول آن روزش:\n",
            "\n",
            "سس ن‌ماندذ کشه\n",
            "\n",
            "۳ ۳\n",
            "\n",
            "وزل؛ و\"\n",
            "بچه‌های جناد خیلی سریع به صنابع بزگ و میم راء پیدا کر\n",
            "\n",
            "ب ده\n",
            "ریدهابه ۱\n",
            "\n",
            "و ۰۱\n",
            "\f\n"
          ]
        }
      ],
      "source": [
        "# Import required packages\n",
        "import cv2\n",
        "import pytesseract\n",
        "from google.colab.patches import cv2_imshow\n",
        "from PIL import Image\n",
        "from matplotlib import pyplot as plt\n",
        "\n",
        "##################### your code ################################\n",
        "img = cv2.imread(\"royan.jpg\")\n",
        "gray = cv2.cvtColor(img, cv2.COLOR_BGR2GRAY)\n",
        "\n",
        "_, otsu_output = cv2.threshold(\n",
        "    gray, 0, 255, cv2.THRESH_BINARY + cv2.THRESH_OTSU\n",
        ")\n",
        "\"\"\"plt.figure()\n",
        "plt.title(\"Otsu\")\n",
        "plt.axis(\"off\")\n",
        "plt.imshow(otsu_output, \"gray\")\"\"\"\n",
        "\n",
        "adaptive_output = cv2.adaptiveThreshold(\n",
        "    gray, 255, cv2.ADAPTIVE_THRESH_MEAN_C, cv2.THRESH_BINARY, 55, 15\n",
        ")\n",
        "\"\"\"plt.figure()\n",
        "plt.title(\"Adaptive Threshold\")\n",
        "plt.axis(\"off\")\n",
        "plt.imshow(adaptive_output, \"gray\")\"\"\"\n",
        "\n",
        "\n",
        "################################################################\n",
        "# Finding contours\n",
        "print(\"******* Otsu result: ********\")\n",
        "print(pytesseract.image_to_string(otsu_output, lang='fas'))\n",
        "\n",
        "print(\"******* Adaptive thresh result: ********\")\n",
        "print(pytesseract.image_to_string(adaptive_output, lang='fas'))"
      ]
    },
    {
      "cell_type": "code",
      "execution_count": 17,
      "metadata": {
        "id": "W3x3Ro2yHOMC",
        "colab": {
          "base_uri": "https://localhost:8080/"
        },
        "outputId": "829abfce-4a3c-4fb7-e22a-38c7afda0a22"
      },
      "outputs": [
        {
          "output_type": "stream",
          "name": "stdout",
          "text": [
            "   \n",
            "     \n",
            "\n",
            "تیم‌های بر\n",
            "\n",
            "کادر پزشکی و ام\n",
            "فرهنگی «جهاد دا:: ؟]\n",
            "و امدادگری برگزار می‌کردیم و ۳\n",
            "\n",
            "آن معمولا با گروه پانزده‌بیست‌ننره۳؟\n",
            "\n",
            "بهباری و امدادگری را تمام کرده بودند. به\n",
            "\n",
            "و بعد از اتمام عملیات ۳ برمی‌گشتيم ۱9\n",
            "دانشگاه می شد یم د:\n",
            "\n",
            "٩ ِ ۹\n",
            "\n",
            "ال و۳\n",
            "\n",
            "ما که ٩ ۵ه قآ\n",
            "\n",
            "همین روال ادامه داشتق نا اینگ ه سال۱۳۶۲ محدد دانشگاه‌ها بازشد؛\n",
            "دانشجویان رفتند سر کلاس. هرفدر ارتباط با محیط ارام دانشگاه یش\n",
            "39 . وی یدای بیایند. با این وضعیت ۳۳\n",
            "\n",
            "نبارن. یرد یی آن روزها بیاید جوی\n",
            "\n",
            "یه بود.\n",
            "اباوجود همه دوک\n",
            "و «جهاد دازشتاهیا\n",
            "وت فا های رو\n",
            "\n",
            "وه آن روز ۳۳\n",
            "\n",
            "| کردند! مو\n",
            "\n",
            "۹ هب\n",
            "\f\n"
          ]
        }
      ],
      "source": [
        "# Without thresholding\n",
        "image_path_in_colab='royan.jpg'\n",
        "extractedInformation = pytesseract.image_to_string(image_path_in_colab, lang='fas')\n",
        "print(extractedInformation)"
      ]
    },
    {
      "cell_type": "markdown",
      "metadata": {
        "id": "YyPqXjW06-dh"
      },
      "source": [
        "# **ب:**"
      ]
    },
    {
      "cell_type": "code",
      "execution_count": null,
      "metadata": {
        "id": "JBGeZj_DTzfs"
      },
      "outputs": [],
      "source": [
        "# Import required packages\n",
        "import cv2\n",
        "import pytesseract\n",
        "from google.colab.patches import cv2_imshow\n",
        "from PIL import Image\n",
        "##################### your code ################################\n",
        "img = cv2.imread(\".....\")\n",
        "\n",
        "\n",
        "\n",
        "################################################################\n",
        "# Finding contours\n",
        "im2 = img.copy()\n",
        "contours, hierarchy = cv2.findContours(dilation, cv2.RETR_EXTERNAL,cv2.CHAIN_APPROX_NONE)\n",
        "\n",
        "for cnt in contours:\n",
        "  x, y, w, h = cv2.boundingRect(cnt)\n",
        "\t# Drawing a rectangle on copied image\n",
        "  rect = cv2.rectangle(im2, (x, y), (x + w, y + h), (0, 255, 0), 2)\n",
        "\t# Cropping the text block for giving input to OCR\n",
        "  cropped = im2[y:y + h, x:x + w]\n",
        "  print(pytesseract.image_to_string(cropped, lang='fas'))\n"
      ]
    },
    {
      "cell_type": "code",
      "execution_count": null,
      "metadata": {
        "id": "VOilxLYHVHwY"
      },
      "outputs": [],
      "source": [
        "image_path_in_colab='....'\n",
        "extractedInformation = pytesseract.image_to_string(image_path_in_colab, lang='fas')\n",
        "print(extractedInformation)"
      ]
    }
  ],
  "metadata": {
    "colab": {
      "provenance": []
    },
    "gpuClass": "standard",
    "kernelspec": {
      "display_name": "Python 3 (ipykernel)",
      "language": "python",
      "name": "python3"
    },
    "language_info": {
      "codemirror_mode": {
        "name": "ipython",
        "version": 3
      },
      "file_extension": ".py",
      "mimetype": "text/x-python",
      "name": "python",
      "nbconvert_exporter": "python",
      "pygments_lexer": "ipython3",
      "version": "3.7.13"
    }
  },
  "nbformat": 4,
  "nbformat_minor": 0
}