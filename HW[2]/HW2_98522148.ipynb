{
 "cells": [
  {
   "cell_type": "code",
   "execution_count": 21,
   "id": "573ee19e",
   "metadata": {},
   "outputs": [
    {
     "data": {
      "text/plain": [
       "(1080, 1440, 3)"
      ]
     },
     "execution_count": 21,
     "metadata": {},
     "output_type": "execute_result"
    }
   ],
   "source": [
    "import cv2\n",
    "image = cv2.imread(\"./images/img1.png\", 1)\n",
    "image.shape"
   ]
  },
  {
   "cell_type": "code",
   "execution_count": 22,
   "id": "35ef9557",
   "metadata": {},
   "outputs": [],
   "source": [
    "gray = cv2.cvtColor(image, cv2.COLOR_BGR2GRAY)\n",
    "ret, corners = cv2.findChessboardCorners(gray, (24, 17), None)"
   ]
  },
  {
   "cell_type": "code",
   "execution_count": 23,
   "id": "d20acced",
   "metadata": {},
   "outputs": [
    {
     "name": "stdout",
     "output_type": "stream",
     "text": [
      "True (408, 1, 2)\n"
     ]
    },
    {
     "data": {
      "text/plain": [
       "array([[394.29108, 791.2645 ]], dtype=float32)"
      ]
     },
     "execution_count": 23,
     "metadata": {},
     "output_type": "execute_result"
    }
   ],
   "source": [
    "print(ret, corners.shape)\n",
    "corners[0]"
   ]
  },
  {
   "cell_type": "code",
   "execution_count": 24,
   "id": "759c21b2",
   "metadata": {},
   "outputs": [
    {
     "data": {
      "text/plain": [
       "-1"
      ]
     },
     "execution_count": 24,
     "metadata": {},
     "output_type": "execute_result"
    }
   ],
   "source": [
    "criteria = (cv2.TERM_CRITERIA_EPS + cv2.TERM_CRITERIA_MAX_ITER, 30, 0.001)\n",
    "exact_corners = cv2.cornerSubPix(gray, corners, (11, 11), (-1, -1), criteria)\n",
    "\n",
    "cv2.drawChessboardCorners(image, (24, 17), exact_corners, ret)\n",
    "cv2.imshow('Found Corners', image[700:])\n",
    "cv2.waitKey()"
   ]
  },
  {
   "cell_type": "code",
   "execution_count": 25,
   "id": "93a8b161",
   "metadata": {},
   "outputs": [
    {
     "name": "stdout",
     "output_type": "stream",
     "text": [
      "(408, 3)\n",
      "[[ 0.  0.  0.]\n",
      " [ 1.  0.  0.]\n",
      " [ 2.  0.  0.]\n",
      " ...\n",
      " [21. 16.  0.]\n",
      " [22. 16.  0.]\n",
      " [23. 16.  0.]]\n"
     ]
    },
    {
     "data": {
      "text/plain": [
       "(0.22975378411606748,\n",
       " array([[1.00520531e+03, 0.00000000e+00, 7.91264352e+02],\n",
       "        [0.00000000e+00, 1.01544875e+03, 5.20980899e+02],\n",
       "        [0.00000000e+00, 0.00000000e+00, 1.00000000e+00]]),\n",
       " array([[-0.20625473,  0.19895327, -0.0008226 , -0.0164914 , -0.18016538]]),\n",
       " (array([[-0.02364562],\n",
       "         [ 0.03777229],\n",
       "         [-0.00948411]]),),\n",
       " (array([[-24.33164253],\n",
       "         [ 16.51999771],\n",
       "         [ 60.43367431]]),))"
      ]
     },
     "execution_count": 25,
     "metadata": {},
     "output_type": "execute_result"
    }
   ],
   "source": [
    "import numpy as np\n",
    "objp = np.zeros((24*17,3), np.float32)\n",
    "print(objp.shape)\n",
    "objp[:,:2] = np.mgrid[0:24,0:17].T.reshape(-1,2)\n",
    "print(objp)\n",
    "ret, mtx, dist, rvecs, tvecs = cv2.calibrateCamera([objp], [corners], gray.shape[::-1], None, None)\n",
    "ret, mtx, dist, rvecs, tvecs"
   ]
  },
  {
   "cell_type": "code",
   "execution_count": 26,
   "id": "34cb18c5",
   "metadata": {},
   "outputs": [
    {
     "name": "stdout",
     "output_type": "stream",
     "text": [
      "k1: -0.2062547319761049\n",
      "k2: 0.19895327270447333\n",
      "p1: -0.0008226027151708499\n",
      "p2: -0.01649139837134075\n",
      "k3: -0.1801653765018224\n"
     ]
    }
   ],
   "source": [
    "k1, k2, p1, p2, k3 = dist[0]\n",
    "print(f\"k1: {k1}\\nk2: {k2}\\np1: {p1}\\np2: {p2}\\nk3: {k3}\")"
   ]
  },
  {
   "cell_type": "code",
   "execution_count": 31,
   "id": "3b2d78ba",
   "metadata": {},
   "outputs": [
    {
     "data": {
      "text/plain": [
       "True"
      ]
     },
     "execution_count": 31,
     "metadata": {},
     "output_type": "execute_result"
    }
   ],
   "source": [
    "image5 = cv2.imread(\"./images/img5.png\", 1)\n",
    "w_h = image5.shape[1::-1]\n",
    "newcameramtx, roi = cv2.getOptimalNewCameraMatrix(mtx, dist, w_h, 1, w_h)\n",
    "\n",
    "# undistort\n",
    "dst = cv2.undistort(image5, mtx, dist, None, newcameramtx)\n",
    "\n",
    "# crop the image\n",
    "x, y, w, h = roi\n",
    "dst = dst[y:y+h, x:x+w]\n",
    "cv2.imwrite('calibresult1.png', dst)"
   ]
  },
  {
   "cell_type": "code",
   "execution_count": 37,
   "id": "b0f0bb8c",
   "metadata": {},
   "outputs": [
    {
     "data": {
      "text/plain": [
       "True"
      ]
     },
     "execution_count": 37,
     "metadata": {},
     "output_type": "execute_result"
    }
   ],
   "source": [
    "images = tuple(cv2.imread(f\"./images/img{i}.png\", 1) for i in range(1, 4 + 1))\n",
    "grays = tuple(cv2.cvtColor(image, cv2.COLOR_BGR2GRAY) for image in images)\n",
    "sizes = ((24, 17), (17, 24), (24, 17), (24, 17))\n",
    "corners_list = tuple(cv2.findChessboardCorners(gray, size, None)[1] for gray, size in zip(grays, sizes))\n",
    "\n",
    "objpoints = []\n",
    "for size in sizes:\n",
    "    objp = np.zeros((24*17,3), np.float32)\n",
    "    objp[:,:2] = np.mgrid[0:size[0],0:size[1]].T.reshape(-1,2)\n",
    "    objpoints.append(objp)\n",
    "\n",
    "ret, mtx, dist, rvecs, tvecs = cv2.calibrateCamera(objpoints, corners_list, gray.shape[::-1], None, None)\n",
    "\n",
    "newcameramtx, roi = cv2.getOptimalNewCameraMatrix(mtx, dist, w_h, 1, w_h)\n",
    "\n",
    "# undistort\n",
    "dst = cv2.undistort(image5, mtx, dist, None, newcameramtx)\n",
    "\n",
    "# crop the image\n",
    "x, y, w, h = roi\n",
    "dst = dst[y:y+h, x:x+w]\n",
    "cv2.imwrite('calibresult2.png', dst)"
   ]
  }
 ],
 "metadata": {
  "kernelspec": {
   "display_name": "Python 3 (ipykernel)",
   "language": "python",
   "name": "python3"
  },
  "language_info": {
   "codemirror_mode": {
    "name": "ipython",
    "version": 3
   },
   "file_extension": ".py",
   "mimetype": "text/x-python",
   "name": "python",
   "nbconvert_exporter": "python",
   "pygments_lexer": "ipython3",
   "version": "3.7.13"
  }
 },
 "nbformat": 4,
 "nbformat_minor": 5
}
