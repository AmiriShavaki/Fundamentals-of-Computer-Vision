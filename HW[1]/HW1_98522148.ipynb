{
 "cells": [
  {
   "cell_type": "code",
   "execution_count": 2,
   "id": "b940e7ff",
   "metadata": {},
   "outputs": [
    {
     "name": "stdout",
     "output_type": "stream",
     "text": [
      "Requirement already satisfied: opencv-python in c:\\users\\amiri\\anaconda3\\envs\\fcv_mohammadi\\lib\\site-packages (4.6.0.66)\n",
      "Requirement already satisfied: numpy>=1.14.5 in c:\\users\\amiri\\anaconda3\\envs\\fcv_mohammadi\\lib\\site-packages (from opencv-python) (1.21.6)\n",
      "Requirement already satisfied: opencv-contrib-python in c:\\users\\amiri\\anaconda3\\envs\\fcv_mohammadi\\lib\\site-packages (4.6.0.66)\n",
      "Requirement already satisfied: numpy>=1.14.5 in c:\\users\\amiri\\anaconda3\\envs\\fcv_mohammadi\\lib\\site-packages (from opencv-contrib-python) (1.21.6)\n"
     ]
    }
   ],
   "source": [
    "!pip install opencv-python\n",
    "!pip install opencv-contrib-python"
   ]
  },
  {
   "cell_type": "code",
   "execution_count": 11,
   "id": "4775aa78",
   "metadata": {},
   "outputs": [
    {
     "name": "stdout",
     "output_type": "stream",
     "text": [
      "(459, 611, 3)\n"
     ]
    },
    {
     "data": {
      "text/plain": [
       "array([[[198, 198, 198],\n",
       "        [255, 255, 255],\n",
       "        [255, 255, 255],\n",
       "        ...,\n",
       "        [255, 255, 255],\n",
       "        [255, 255, 255],\n",
       "        [255, 255, 255]],\n",
       "\n",
       "       [[198, 198, 198],\n",
       "        [255, 255, 255],\n",
       "        [255, 255, 255],\n",
       "        ...,\n",
       "        [255, 255, 255],\n",
       "        [255, 255, 255],\n",
       "        [255, 255, 255]],\n",
       "\n",
       "       [[198, 198, 198],\n",
       "        [255, 255, 255],\n",
       "        [255, 255, 255],\n",
       "        ...,\n",
       "        [255, 255, 255],\n",
       "        [255, 255, 255],\n",
       "        [255, 255, 255]],\n",
       "\n",
       "       ...,\n",
       "\n",
       "       [[198, 198, 198],\n",
       "        [255, 255, 255],\n",
       "        [255, 255, 255],\n",
       "        ...,\n",
       "        [255, 255, 255],\n",
       "        [255, 255, 255],\n",
       "        [255, 255, 255]],\n",
       "\n",
       "       [[198, 198, 198],\n",
       "        [255, 255, 255],\n",
       "        [255, 255, 255],\n",
       "        ...,\n",
       "        [255, 255, 255],\n",
       "        [255, 255, 255],\n",
       "        [255, 255, 255]],\n",
       "\n",
       "       [[198, 198, 198],\n",
       "        [198, 198, 198],\n",
       "        [198, 198, 198],\n",
       "        ...,\n",
       "        [198, 198, 198],\n",
       "        [198, 198, 198],\n",
       "        [198, 198, 198]]], dtype=uint8)"
      ]
     },
     "execution_count": 11,
     "metadata": {},
     "output_type": "execute_result"
    }
   ],
   "source": [
    "import cv2\n",
    "image = cv2.imread(\"background.png\", 1)\n",
    "print(image.shape)\n",
    "image"
   ]
  },
  {
   "cell_type": "code",
   "execution_count": 26,
   "id": "6acc132d",
   "metadata": {},
   "outputs": [],
   "source": [
    "bgr_image = cv2.imread(\"background.png\", 1)\n",
    "rgb_image = cv2.cvtColor(bgr_image, cv2.COLOR_BGR2RGB)"
   ]
  },
  {
   "cell_type": "code",
   "execution_count": 44,
   "id": "25a12557",
   "metadata": {},
   "outputs": [
    {
     "data": {
      "text/plain": [
       "-1"
      ]
     },
     "execution_count": 44,
     "metadata": {},
     "output_type": "execute_result"
    }
   ],
   "source": [
    "resized_image = cv2.resize(rgb_image, (290, 570))\n",
    "cv2.imshow(\"Before Resize\", rgb_image)\n",
    "cv2.imshow(\"After Resize\", resized_image)\n",
    "cv2.waitKey()"
   ]
  },
  {
   "cell_type": "code",
   "execution_count": 34,
   "id": "041f705a",
   "metadata": {},
   "outputs": [
    {
     "data": {
      "text/plain": [
       "-1"
      ]
     },
     "execution_count": 34,
     "metadata": {},
     "output_type": "execute_result"
    }
   ],
   "source": [
    "WIDTH, HEIGHT = 280, 560\n",
    "UP_LEFT_CORNER_X, UP_LEFT_CORNER_Y = 5, 5\n",
    "BLACK = (0, 0, 0)\n",
    "\n",
    "\n",
    "cv2.line(resized_image, (UP_LEFT_CORNER_X, UP_LEFT_CORNER_Y), (UP_LEFT_CORNER_X, UP_LEFT_CORNER_Y + HEIGHT), BLACK)\n",
    "cv2.line(resized_image, (UP_LEFT_CORNER_X, UP_LEFT_CORNER_Y), (UP_LEFT_CORNER_X + WIDTH, UP_LEFT_CORNER_Y), BLACK)\n",
    "cv2.line(resized_image, (UP_LEFT_CORNER_X, UP_LEFT_CORNER_Y + HEIGHT), (UP_LEFT_CORNER_X + WIDTH, UP_LEFT_CORNER_Y + HEIGHT), BLACK)\n",
    "cv2.line(resized_image, (UP_LEFT_CORNER_X + WIDTH, UP_LEFT_CORNER_Y), (UP_LEFT_CORNER_X + WIDTH, UP_LEFT_CORNER_Y + HEIGHT), BLACK)\n",
    "\n",
    "cv2.imshow(\"Drawing...\", resized_image)\n",
    "cv2.waitKey()"
   ]
  },
  {
   "cell_type": "code",
   "execution_count": 45,
   "id": "bafce25a",
   "metadata": {},
   "outputs": [
    {
     "data": {
      "text/plain": [
       "-1"
      ]
     },
     "execution_count": 45,
     "metadata": {},
     "output_type": "execute_result"
    }
   ],
   "source": [
    "BLUE = (255, 0, 0)\n",
    "GREEN = (0, 255, 0)\n",
    "RED = (0, 0, 255)\n",
    "YELLOW = (0, 255, 255)\n",
    "\n",
    "cv2.circle(resized_image, (UP_LEFT_CORNER_X, UP_LEFT_CORNER_Y), 5, BLUE, -1)\n",
    "cv2.circle(resized_image, (UP_LEFT_CORNER_X, UP_LEFT_CORNER_Y + HEIGHT), 5, GREEN, -1)\n",
    "cv2.circle(resized_image, (UP_LEFT_CORNER_X + WIDTH, UP_LEFT_CORNER_Y), 5, RED, -1)\n",
    "cv2.circle(resized_image, (UP_LEFT_CORNER_X + WIDTH, UP_LEFT_CORNER_Y + HEIGHT), 5, YELLOW, -1)\n",
    "\n",
    "cv2.imshow(\"Drawing...\", resized_image)\n",
    "cv2.waitKey()"
   ]
  },
  {
   "cell_type": "code",
   "execution_count": 56,
   "id": "8c8f8a31",
   "metadata": {},
   "outputs": [
    {
     "data": {
      "text/plain": [
       "-1"
      ]
     },
     "execution_count": 56,
     "metadata": {},
     "output_type": "execute_result"
    }
   ],
   "source": [
    "mypic = cv2.imread(\"background.png\", 1)\n",
    "\n",
    "WIDTH, HEIGHT = 557, 278\n",
    "mypic = cv2.resize(mypic, (WIDTH, HEIGHT))\n",
    "\n",
    "CORNERS = ((0, 0), (WIDTH, 0), (0, HEIGHT), (WIDTH, HEIGHT))\n",
    "POINTS_CNT = 8\n",
    "CENTER_POINTS = tuple((i * (WIDTH // (POINTS_CNT - 1)), HEIGHT // 2) for i in range(POINTS_CNT))\n",
    "\n",
    "COLORS = ((0, 255, 0), (0, 0, 255), (255, 0, 0), (255, 255, 0))\n",
    "\n",
    "for i in range(4):\n",
    "    cv2.circle(mypic, CORNERS[i], 5, COLORS[i], -1)\n",
    "    for j in range(POINTS_CNT):\n",
    "        cv2.line(mypic, CORNERS[i], CENTER_POINTS[j], BLACK)\n",
    "        \n",
    "        \n",
    "cv2.imshow(\"Drawing...\", mypic)\n",
    "cv2.waitKey()"
   ]
  },
  {
   "cell_type": "code",
   "execution_count": 57,
   "id": "aef6a360",
   "metadata": {},
   "outputs": [
    {
     "data": {
      "text/plain": [
       "True"
      ]
     },
     "execution_count": 57,
     "metadata": {},
     "output_type": "execute_result"
    }
   ],
   "source": [
    "cv2.imwrite(\"mypic.jpg\", mypic)"
   ]
  }
 ],
 "metadata": {
  "kernelspec": {
   "display_name": "Python 3 (ipykernel)",
   "language": "python",
   "name": "python3"
  },
  "language_info": {
   "codemirror_mode": {
    "name": "ipython",
    "version": 3
   },
   "file_extension": ".py",
   "mimetype": "text/x-python",
   "name": "python",
   "nbconvert_exporter": "python",
   "pygments_lexer": "ipython3",
   "version": "3.7.13"
  }
 },
 "nbformat": 4,
 "nbformat_minor": 5
}
